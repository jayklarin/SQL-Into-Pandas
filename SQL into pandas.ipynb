{
 "cells": [
  {
   "cell_type": "markdown",
   "metadata": {},
   "source": [
    "# Expressing SQL thinking in Pandas\n",
    "## For those whose intuition is SQL when thinking about datasets.  This excercies is to transform SQL into Pandas cell by cell.  In the end we will create a CSV file that only has the data we deem relevant below."
   ]
  },
  {
   "cell_type": "code",
   "execution_count": 1,
   "metadata": {},
   "outputs": [],
   "source": [
    "import pandas as pd "
   ]
  },
  {
   "cell_type": "code",
   "execution_count": 2,
   "metadata": {},
   "outputs": [
    {
     "data": {
      "text/plain": [
       "(5656458, 6)"
      ]
     },
     "execution_count": 2,
     "metadata": {},
     "output_type": "execute_result"
    }
   ],
   "source": [
    "Indicators = pd.read_csv('Indicators.csv')\n",
    "Indicators.shape"
   ]
  },
  {
   "cell_type": "markdown",
   "metadata": {},
   "source": [
    "# Cell of SQL followed by a cell of Pandas\n",
    "## in this thought excercise we create a recordset  where each [country, indicator] has a full 56 years of data.  "
   ]
  },
  {
   "cell_type": "markdown",
   "metadata": {},
   "source": [
    "## Let's take a look the general shape and features of the dataset"
   ]
  },
  {
   "cell_type": "raw",
   "metadata": {},
   "source": [
    "SELECT *\n",
    "FROM Indicators\n",
    "LIMIT 5"
   ]
  },
  {
   "cell_type": "code",
   "execution_count": 3,
   "metadata": {},
   "outputs": [
    {
     "data": {
      "text/html": [
       "<div>\n",
       "<style scoped>\n",
       "    .dataframe tbody tr th:only-of-type {\n",
       "        vertical-align: middle;\n",
       "    }\n",
       "\n",
       "    .dataframe tbody tr th {\n",
       "        vertical-align: top;\n",
       "    }\n",
       "\n",
       "    .dataframe thead th {\n",
       "        text-align: right;\n",
       "    }\n",
       "</style>\n",
       "<table border=\"1\" class=\"dataframe\">\n",
       "  <thead>\n",
       "    <tr style=\"text-align: right;\">\n",
       "      <th></th>\n",
       "      <th>CountryName</th>\n",
       "      <th>CountryCode</th>\n",
       "      <th>IndicatorName</th>\n",
       "      <th>IndicatorCode</th>\n",
       "      <th>Year</th>\n",
       "      <th>Value</th>\n",
       "    </tr>\n",
       "  </thead>\n",
       "  <tbody>\n",
       "    <tr>\n",
       "      <th>0</th>\n",
       "      <td>Arab World</td>\n",
       "      <td>ARB</td>\n",
       "      <td>Adolescent fertility rate (births per 1,000 wo...</td>\n",
       "      <td>SP.ADO.TFRT</td>\n",
       "      <td>1960</td>\n",
       "      <td>1.335609e+02</td>\n",
       "    </tr>\n",
       "    <tr>\n",
       "      <th>1</th>\n",
       "      <td>Arab World</td>\n",
       "      <td>ARB</td>\n",
       "      <td>Age dependency ratio (% of working-age populat...</td>\n",
       "      <td>SP.POP.DPND</td>\n",
       "      <td>1960</td>\n",
       "      <td>8.779760e+01</td>\n",
       "    </tr>\n",
       "    <tr>\n",
       "      <th>2</th>\n",
       "      <td>Arab World</td>\n",
       "      <td>ARB</td>\n",
       "      <td>Age dependency ratio, old (% of working-age po...</td>\n",
       "      <td>SP.POP.DPND.OL</td>\n",
       "      <td>1960</td>\n",
       "      <td>6.634579e+00</td>\n",
       "    </tr>\n",
       "    <tr>\n",
       "      <th>3</th>\n",
       "      <td>Arab World</td>\n",
       "      <td>ARB</td>\n",
       "      <td>Age dependency ratio, young (% of working-age ...</td>\n",
       "      <td>SP.POP.DPND.YG</td>\n",
       "      <td>1960</td>\n",
       "      <td>8.102333e+01</td>\n",
       "    </tr>\n",
       "    <tr>\n",
       "      <th>4</th>\n",
       "      <td>Arab World</td>\n",
       "      <td>ARB</td>\n",
       "      <td>Arms exports (SIPRI trend indicator values)</td>\n",
       "      <td>MS.MIL.XPRT.KD</td>\n",
       "      <td>1960</td>\n",
       "      <td>3.000000e+06</td>\n",
       "    </tr>\n",
       "  </tbody>\n",
       "</table>\n",
       "</div>"
      ],
      "text/plain": [
       "  CountryName CountryCode                                      IndicatorName  \\\n",
       "0  Arab World         ARB  Adolescent fertility rate (births per 1,000 wo...   \n",
       "1  Arab World         ARB  Age dependency ratio (% of working-age populat...   \n",
       "2  Arab World         ARB  Age dependency ratio, old (% of working-age po...   \n",
       "3  Arab World         ARB  Age dependency ratio, young (% of working-age ...   \n",
       "4  Arab World         ARB        Arms exports (SIPRI trend indicator values)   \n",
       "\n",
       "    IndicatorCode  Year         Value  \n",
       "0     SP.ADO.TFRT  1960  1.335609e+02  \n",
       "1     SP.POP.DPND  1960  8.779760e+01  \n",
       "2  SP.POP.DPND.OL  1960  6.634579e+00  \n",
       "3  SP.POP.DPND.YG  1960  8.102333e+01  \n",
       "4  MS.MIL.XPRT.KD  1960  3.000000e+06  "
      ]
     },
     "execution_count": 3,
     "metadata": {},
     "output_type": "execute_result"
    }
   ],
   "source": [
    "Indicators.head() #limit 5 is default"
   ]
  },
  {
   "cell_type": "markdown",
   "metadata": {},
   "source": [
    "## Now let's extract a one dimentional list of indices representing Adolescent fertility rate (births per 1,000) in the United States\n"
   ]
  },
  {
   "cell_type": "raw",
   "metadata": {},
   "source": [
    "SELECT id\n",
    "FROM Indicators\n",
    "WHERE CountryCode = 'USA'\n",
    "    AND IndicatorCode = 'SP.ADO.TFRT'\n",
    "LIMIT 5"
   ]
  },
  {
   "cell_type": "code",
   "execution_count": 4,
   "metadata": {},
   "outputs": [],
   "source": [
    "Indicators_indexes_USA_SP_ADO_TFRT =\\\n",
    "Indicators[(Indicators.CountryCode == 'USA')\\\n",
    "           & (Indicators.IndicatorCode == 'SP.ADO.TFRT')].index"
   ]
  },
  {
   "cell_type": "code",
   "execution_count": 27,
   "metadata": {},
   "outputs": [
    {
     "data": {
      "text/plain": [
       "Int64Index([  22220,   48687,   77063,  105680,  134718,  166648,  198016,\n",
       "             230733,  263289,  296274,  357910,  425886,  495679,  565104,\n",
       "             635182,  707658,  781073,  856731,  932392, 1008223, 1089482,\n",
       "            1173411, 1258608, 1343867, 1429770, 1517209, 1605077, 1694472,\n",
       "            1783944, 1876459, 1992735, 2108687, 2229974, 2353725, 2479391,\n",
       "            2613713, 2748683, 2884963, 3022290, 3164215, 3318849, 3469491,\n",
       "            3624122, 3777898, 3935641, 4115237, 4292434, 4472748, 4652594,\n",
       "            4831264, 5017979, 5194672, 5369835, 5527272, 5637253],\n",
       "           dtype='int64')"
      ]
     },
     "execution_count": 27,
     "metadata": {},
     "output_type": "execute_result"
    }
   ],
   "source": [
    "#print(type(Indicators_indexes_USA_SP_ADO_TFRT))\n",
    "#print(len(Indicators_indexes_USA_SP_ADO_TFRT))\n",
    "Indicators_indexes_USA_SP_ADO_TFRT"
   ]
  },
  {
   "cell_type": "markdown",
   "metadata": {},
   "source": [
    "# Now let's show that same information in a dataframe in a more easily readable and organized fashion "
   ]
  },
  {
   "cell_type": "raw",
   "metadata": {},
   "source": [
    "SELECT CountryName\n",
    "    , IndicatorName\n",
    "    , Year\n",
    "FROM Indicators\n",
    "WHERE CountryCode = 'USA'\n",
    "    AND IndicatorCode = 'SP.ADO.TFRT'\n",
    "ORDER BY Year DESC\n",
    "LIMIT 5"
   ]
  },
  {
   "cell_type": "code",
   "execution_count": 6,
   "metadata": {},
   "outputs": [
    {
     "data": {
      "text/html": [
       "<div>\n",
       "<style scoped>\n",
       "    .dataframe tbody tr th:only-of-type {\n",
       "        vertical-align: middle;\n",
       "    }\n",
       "\n",
       "    .dataframe tbody tr th {\n",
       "        vertical-align: top;\n",
       "    }\n",
       "\n",
       "    .dataframe thead th {\n",
       "        text-align: right;\n",
       "    }\n",
       "</style>\n",
       "<table border=\"1\" class=\"dataframe\">\n",
       "  <thead>\n",
       "    <tr style=\"text-align: right;\">\n",
       "      <th></th>\n",
       "      <th>CountryName</th>\n",
       "      <th>IndicatorName</th>\n",
       "      <th>Year</th>\n",
       "    </tr>\n",
       "  </thead>\n",
       "  <tbody>\n",
       "    <tr>\n",
       "      <th>5637253</th>\n",
       "      <td>United States</td>\n",
       "      <td>Adolescent fertility rate (births per 1,000 wo...</td>\n",
       "      <td>2014</td>\n",
       "    </tr>\n",
       "    <tr>\n",
       "      <th>5527272</th>\n",
       "      <td>United States</td>\n",
       "      <td>Adolescent fertility rate (births per 1,000 wo...</td>\n",
       "      <td>2013</td>\n",
       "    </tr>\n",
       "    <tr>\n",
       "      <th>5369835</th>\n",
       "      <td>United States</td>\n",
       "      <td>Adolescent fertility rate (births per 1,000 wo...</td>\n",
       "      <td>2012</td>\n",
       "    </tr>\n",
       "    <tr>\n",
       "      <th>5194672</th>\n",
       "      <td>United States</td>\n",
       "      <td>Adolescent fertility rate (births per 1,000 wo...</td>\n",
       "      <td>2011</td>\n",
       "    </tr>\n",
       "    <tr>\n",
       "      <th>5017979</th>\n",
       "      <td>United States</td>\n",
       "      <td>Adolescent fertility rate (births per 1,000 wo...</td>\n",
       "      <td>2010</td>\n",
       "    </tr>\n",
       "  </tbody>\n",
       "</table>\n",
       "</div>"
      ],
      "text/plain": [
       "           CountryName                                      IndicatorName  \\\n",
       "5637253  United States  Adolescent fertility rate (births per 1,000 wo...   \n",
       "5527272  United States  Adolescent fertility rate (births per 1,000 wo...   \n",
       "5369835  United States  Adolescent fertility rate (births per 1,000 wo...   \n",
       "5194672  United States  Adolescent fertility rate (births per 1,000 wo...   \n",
       "5017979  United States  Adolescent fertility rate (births per 1,000 wo...   \n",
       "\n",
       "         Year  \n",
       "5637253  2014  \n",
       "5527272  2013  \n",
       "5369835  2012  \n",
       "5194672  2011  \n",
       "5017979  2010  "
      ]
     },
     "execution_count": 6,
     "metadata": {},
     "output_type": "execute_result"
    }
   ],
   "source": [
    "Indicators[(Indicators.CountryCode == 'USA')\\\n",
    "           & (Indicators.IndicatorCode == 'SP.ADO.TFRT')]\\\n",
    "[['CountryName','IndicatorName','Year']].\\\n",
    "sort_values('Year',ascending=False).head()"
   ]
  },
  {
   "cell_type": "markdown",
   "metadata": {},
   "source": [
    "## Now let's count how many years of data each country has for each indicator"
   ]
  },
  {
   "cell_type": "raw",
   "metadata": {},
   "source": [
    "SELECT CountryCode\n",
    "    , IndicatorCode\n",
    "    , COUNT(Year)\n",
    "FROM Indicators\n",
    "GROUP BY CountryCode, IndicatorCode"
   ]
  },
  {
   "cell_type": "code",
   "execution_count": 26,
   "metadata": {
    "scrolled": true
   },
   "outputs": [
    {
     "data": {
      "text/plain": [
       "CountryCode  IndicatorCode    \n",
       "ABW          AG.LND.AGRI.K2       53\n",
       "             AG.LND.AGRI.ZS       53\n",
       "             AG.LND.ARBL.HA       53\n",
       "             AG.LND.ARBL.HA.PC    53\n",
       "             AG.LND.ARBL.ZS       53\n",
       "             AG.LND.EL5M.ZS        2\n",
       "             AG.LND.FRST.K2       23\n",
       "             AG.LND.FRST.ZS       24\n",
       "             AG.LND.TOTL.K2       54\n",
       "             AG.SRF.TOTL.K2       54\n",
       "             BG.GSR.NFSV.GD.ZS     7\n",
       "             BM.GSR.CMCP.ZS        9\n",
       "             BM.GSR.FCTY.CD        9\n",
       "             BM.GSR.GNFS.CD        9\n",
       "             BM.GSR.INSF.ZS        9\n",
       "             BM.GSR.MRCH.CD        9\n",
       "             BM.GSR.NFSV.CD        9\n",
       "             BM.GSR.ROYL.CD        9\n",
       "             BM.GSR.TOTL.CD        9\n",
       "             BM.GSR.TRAN.ZS        9\n",
       "             BM.GSR.TRVL.ZS        9\n",
       "             BM.KLT.DINV.GD.ZS     7\n",
       "             BM.TRF.PRVT.CD        9\n",
       "             BM.TRF.PWKR.CD.DT    24\n",
       "             BN.CAB.XOKA.CD        9\n",
       "             BN.CAB.XOKA.GD.ZS     7\n",
       "             BN.FIN.TOTL.CD        9\n",
       "             BN.GSR.FCTY.CD        9\n",
       "             BN.GSR.GNFS.CD        9\n",
       "             BN.GSR.MRCH.CD        9\n",
       "                                  ..\n",
       "ZWE          TM.VAL.MRCH.WL.CD    37\n",
       "             TM.VAL.MRCH.WR.ZS    37\n",
       "             TM.VAL.MRCH.XD.WD    34\n",
       "             TT.PRI.MRCH.XD.WD    34\n",
       "             TX.QTY.MRCH.XD.WD    34\n",
       "             TX.VAL.AGRI.ZS.UN    26\n",
       "             TX.VAL.FOOD.ZS.UN    26\n",
       "             TX.VAL.FUEL.ZS.UN    26\n",
       "             TX.VAL.ICTG.ZS.UN    13\n",
       "             TX.VAL.MANF.ZS.UN    26\n",
       "             TX.VAL.MMTL.ZS.UN    26\n",
       "             TX.VAL.MRCH.AL.ZS    37\n",
       "             TX.VAL.MRCH.CD.WT    55\n",
       "             TX.VAL.MRCH.HI.ZS    37\n",
       "             TX.VAL.MRCH.OR.ZS    37\n",
       "             TX.VAL.MRCH.R1.ZS    37\n",
       "             TX.VAL.MRCH.R2.ZS    20\n",
       "             TX.VAL.MRCH.R3.ZS    37\n",
       "             TX.VAL.MRCH.R4.ZS    37\n",
       "             TX.VAL.MRCH.R5.ZS    37\n",
       "             TX.VAL.MRCH.R6.ZS    37\n",
       "             TX.VAL.MRCH.RS.ZS    37\n",
       "             TX.VAL.MRCH.WL.CD    37\n",
       "             TX.VAL.MRCH.WR.ZS    37\n",
       "             TX.VAL.MRCH.XD.WD    34\n",
       "             TX.VAL.TECH.CD       22\n",
       "             TX.VAL.TECH.MF.ZS    22\n",
       "             VC.IDP.TOTL.HE       10\n",
       "             VC.IDP.TOTL.LE        4\n",
       "             VC.IHR.PSRC.P5        8\n",
       "Length: 233200, dtype: int64"
      ]
     },
     "execution_count": 26,
     "metadata": {},
     "output_type": "execute_result"
    }
   ],
   "source": [
    "Indicators.groupby(['CountryCode','IndicatorCode']).size()"
   ]
  },
  {
   "cell_type": "markdown",
   "metadata": {},
   "source": [
    "## Now let's put that data into a more organized form"
   ]
  },
  {
   "cell_type": "raw",
   "metadata": {},
   "source": [
    "SELECT IndicatorCode\n",
    "    , CountryCode\n",
    "    , COUNT(Year) Years\n",
    "FROM Indicators\n",
    "GROUP BY IndicatorCode, CountryCode\n",
    "ORDER by Years DESC\n",
    "    , IndicatorCode\n",
    "    , CountryCode"
   ]
  },
  {
   "cell_type": "code",
   "execution_count": 8,
   "metadata": {},
   "outputs": [],
   "source": [
    "years_of_entries_for_cc_and_ic =\\\n",
    "\\\n",
    "Indicators.groupby(['IndicatorCode','CountryCode']).size().\\\n",
    "to_frame('Years').reset_index().\\\n",
    "sort_values(['Years', 'IndicatorCode', 'CountryCode'], ascending = [False, True, True])"
   ]
  },
  {
   "cell_type": "code",
   "execution_count": 34,
   "metadata": {},
   "outputs": [
    {
     "data": {
      "text/html": [
       "<div>\n",
       "<style scoped>\n",
       "    .dataframe tbody tr th:only-of-type {\n",
       "        vertical-align: middle;\n",
       "    }\n",
       "\n",
       "    .dataframe tbody tr th {\n",
       "        vertical-align: top;\n",
       "    }\n",
       "\n",
       "    .dataframe thead th {\n",
       "        text-align: right;\n",
       "    }\n",
       "</style>\n",
       "<table border=\"1\" class=\"dataframe\">\n",
       "  <thead>\n",
       "    <tr style=\"text-align: right;\">\n",
       "      <th></th>\n",
       "      <th>IndicatorCode</th>\n",
       "      <th>CountryCode</th>\n",
       "      <th>Years</th>\n",
       "    </tr>\n",
       "  </thead>\n",
       "  <tbody>\n",
       "    <tr>\n",
       "      <th>166174</th>\n",
       "      <td>SH.DTH.IMRT</td>\n",
       "      <td>ARE</td>\n",
       "      <td>56</td>\n",
       "    </tr>\n",
       "    <tr>\n",
       "      <th>166178</th>\n",
       "      <td>SH.DTH.IMRT</td>\n",
       "      <td>AUS</td>\n",
       "      <td>56</td>\n",
       "    </tr>\n",
       "    <tr>\n",
       "      <th>166179</th>\n",
       "      <td>SH.DTH.IMRT</td>\n",
       "      <td>AUT</td>\n",
       "      <td>56</td>\n",
       "    </tr>\n",
       "    <tr>\n",
       "      <th>166182</th>\n",
       "      <td>SH.DTH.IMRT</td>\n",
       "      <td>BEL</td>\n",
       "      <td>56</td>\n",
       "    </tr>\n",
       "    <tr>\n",
       "      <th>166183</th>\n",
       "      <td>SH.DTH.IMRT</td>\n",
       "      <td>BEN</td>\n",
       "      <td>56</td>\n",
       "    </tr>\n",
       "    <tr>\n",
       "      <th>166184</th>\n",
       "      <td>SH.DTH.IMRT</td>\n",
       "      <td>BFA</td>\n",
       "      <td>56</td>\n",
       "    </tr>\n",
       "    <tr>\n",
       "      <th>166185</th>\n",
       "      <td>SH.DTH.IMRT</td>\n",
       "      <td>BGD</td>\n",
       "      <td>56</td>\n",
       "    </tr>\n",
       "    <tr>\n",
       "      <th>166187</th>\n",
       "      <td>SH.DTH.IMRT</td>\n",
       "      <td>BHR</td>\n",
       "      <td>56</td>\n",
       "    </tr>\n",
       "    <tr>\n",
       "      <th>166192</th>\n",
       "      <td>SH.DTH.IMRT</td>\n",
       "      <td>BOL</td>\n",
       "      <td>56</td>\n",
       "    </tr>\n",
       "    <tr>\n",
       "      <th>166193</th>\n",
       "      <td>SH.DTH.IMRT</td>\n",
       "      <td>BRA</td>\n",
       "      <td>56</td>\n",
       "    </tr>\n",
       "    <tr>\n",
       "      <th>166194</th>\n",
       "      <td>SH.DTH.IMRT</td>\n",
       "      <td>BRB</td>\n",
       "      <td>56</td>\n",
       "    </tr>\n",
       "    <tr>\n",
       "      <th>166197</th>\n",
       "      <td>SH.DTH.IMRT</td>\n",
       "      <td>BWA</td>\n",
       "      <td>56</td>\n",
       "    </tr>\n",
       "    <tr>\n",
       "      <th>166198</th>\n",
       "      <td>SH.DTH.IMRT</td>\n",
       "      <td>CAF</td>\n",
       "      <td>56</td>\n",
       "    </tr>\n",
       "    <tr>\n",
       "      <th>166199</th>\n",
       "      <td>SH.DTH.IMRT</td>\n",
       "      <td>CAN</td>\n",
       "      <td>56</td>\n",
       "    </tr>\n",
       "    <tr>\n",
       "      <th>166200</th>\n",
       "      <td>SH.DTH.IMRT</td>\n",
       "      <td>CHE</td>\n",
       "      <td>56</td>\n",
       "    </tr>\n",
       "    <tr>\n",
       "      <th>166201</th>\n",
       "      <td>SH.DTH.IMRT</td>\n",
       "      <td>CHL</td>\n",
       "      <td>56</td>\n",
       "    </tr>\n",
       "    <tr>\n",
       "      <th>166203</th>\n",
       "      <td>SH.DTH.IMRT</td>\n",
       "      <td>CIV</td>\n",
       "      <td>56</td>\n",
       "    </tr>\n",
       "    <tr>\n",
       "      <th>166204</th>\n",
       "      <td>SH.DTH.IMRT</td>\n",
       "      <td>CMR</td>\n",
       "      <td>56</td>\n",
       "    </tr>\n",
       "    <tr>\n",
       "      <th>166205</th>\n",
       "      <td>SH.DTH.IMRT</td>\n",
       "      <td>COG</td>\n",
       "      <td>56</td>\n",
       "    </tr>\n",
       "    <tr>\n",
       "      <th>166206</th>\n",
       "      <td>SH.DTH.IMRT</td>\n",
       "      <td>COL</td>\n",
       "      <td>56</td>\n",
       "    </tr>\n",
       "    <tr>\n",
       "      <th>166215</th>\n",
       "      <td>SH.DTH.IMRT</td>\n",
       "      <td>DMA</td>\n",
       "      <td>56</td>\n",
       "    </tr>\n",
       "    <tr>\n",
       "      <th>166216</th>\n",
       "      <td>SH.DTH.IMRT</td>\n",
       "      <td>DNK</td>\n",
       "      <td>56</td>\n",
       "    </tr>\n",
       "    <tr>\n",
       "      <th>166217</th>\n",
       "      <td>SH.DTH.IMRT</td>\n",
       "      <td>DOM</td>\n",
       "      <td>56</td>\n",
       "    </tr>\n",
       "    <tr>\n",
       "      <th>166218</th>\n",
       "      <td>SH.DTH.IMRT</td>\n",
       "      <td>DZA</td>\n",
       "      <td>56</td>\n",
       "    </tr>\n",
       "    <tr>\n",
       "      <th>166221</th>\n",
       "      <td>SH.DTH.IMRT</td>\n",
       "      <td>ECU</td>\n",
       "      <td>56</td>\n",
       "    </tr>\n",
       "    <tr>\n",
       "      <th>166222</th>\n",
       "      <td>SH.DTH.IMRT</td>\n",
       "      <td>EGY</td>\n",
       "      <td>56</td>\n",
       "    </tr>\n",
       "    <tr>\n",
       "      <th>166224</th>\n",
       "      <td>SH.DTH.IMRT</td>\n",
       "      <td>ESP</td>\n",
       "      <td>56</td>\n",
       "    </tr>\n",
       "    <tr>\n",
       "      <th>166227</th>\n",
       "      <td>SH.DTH.IMRT</td>\n",
       "      <td>FIN</td>\n",
       "      <td>56</td>\n",
       "    </tr>\n",
       "    <tr>\n",
       "      <th>166228</th>\n",
       "      <td>SH.DTH.IMRT</td>\n",
       "      <td>FJI</td>\n",
       "      <td>56</td>\n",
       "    </tr>\n",
       "    <tr>\n",
       "      <th>166229</th>\n",
       "      <td>SH.DTH.IMRT</td>\n",
       "      <td>FRA</td>\n",
       "      <td>56</td>\n",
       "    </tr>\n",
       "    <tr>\n",
       "      <th>...</th>\n",
       "      <td>...</td>\n",
       "      <td>...</td>\n",
       "      <td>...</td>\n",
       "    </tr>\n",
       "    <tr>\n",
       "      <th>233130</th>\n",
       "      <td>per_si_allsi.cov_pop_tot</td>\n",
       "      <td>GEO</td>\n",
       "      <td>1</td>\n",
       "    </tr>\n",
       "    <tr>\n",
       "      <th>233134</th>\n",
       "      <td>per_si_allsi.cov_pop_tot</td>\n",
       "      <td>HRV</td>\n",
       "      <td>1</td>\n",
       "    </tr>\n",
       "    <tr>\n",
       "      <th>233135</th>\n",
       "      <td>per_si_allsi.cov_pop_tot</td>\n",
       "      <td>HUN</td>\n",
       "      <td>1</td>\n",
       "    </tr>\n",
       "    <tr>\n",
       "      <th>233137</th>\n",
       "      <td>per_si_allsi.cov_pop_tot</td>\n",
       "      <td>JAM</td>\n",
       "      <td>1</td>\n",
       "    </tr>\n",
       "    <tr>\n",
       "      <th>233140</th>\n",
       "      <td>per_si_allsi.cov_pop_tot</td>\n",
       "      <td>KEN</td>\n",
       "      <td>1</td>\n",
       "    </tr>\n",
       "    <tr>\n",
       "      <th>233142</th>\n",
       "      <td>per_si_allsi.cov_pop_tot</td>\n",
       "      <td>KHM</td>\n",
       "      <td>1</td>\n",
       "    </tr>\n",
       "    <tr>\n",
       "      <th>233143</th>\n",
       "      <td>per_si_allsi.cov_pop_tot</td>\n",
       "      <td>KIR</td>\n",
       "      <td>1</td>\n",
       "    </tr>\n",
       "    <tr>\n",
       "      <th>233145</th>\n",
       "      <td>per_si_allsi.cov_pop_tot</td>\n",
       "      <td>LAO</td>\n",
       "      <td>1</td>\n",
       "    </tr>\n",
       "    <tr>\n",
       "      <th>233146</th>\n",
       "      <td>per_si_allsi.cov_pop_tot</td>\n",
       "      <td>LBN</td>\n",
       "      <td>1</td>\n",
       "    </tr>\n",
       "    <tr>\n",
       "      <th>233147</th>\n",
       "      <td>per_si_allsi.cov_pop_tot</td>\n",
       "      <td>LBR</td>\n",
       "      <td>1</td>\n",
       "    </tr>\n",
       "    <tr>\n",
       "      <th>233148</th>\n",
       "      <td>per_si_allsi.cov_pop_tot</td>\n",
       "      <td>LKA</td>\n",
       "      <td>1</td>\n",
       "    </tr>\n",
       "    <tr>\n",
       "      <th>233149</th>\n",
       "      <td>per_si_allsi.cov_pop_tot</td>\n",
       "      <td>LSO</td>\n",
       "      <td>1</td>\n",
       "    </tr>\n",
       "    <tr>\n",
       "      <th>233150</th>\n",
       "      <td>per_si_allsi.cov_pop_tot</td>\n",
       "      <td>LTU</td>\n",
       "      <td>1</td>\n",
       "    </tr>\n",
       "    <tr>\n",
       "      <th>233153</th>\n",
       "      <td>per_si_allsi.cov_pop_tot</td>\n",
       "      <td>MDV</td>\n",
       "      <td>1</td>\n",
       "    </tr>\n",
       "    <tr>\n",
       "      <th>233155</th>\n",
       "      <td>per_si_allsi.cov_pop_tot</td>\n",
       "      <td>MLI</td>\n",
       "      <td>1</td>\n",
       "    </tr>\n",
       "    <tr>\n",
       "      <th>233156</th>\n",
       "      <td>per_si_allsi.cov_pop_tot</td>\n",
       "      <td>MNE</td>\n",
       "      <td>1</td>\n",
       "    </tr>\n",
       "    <tr>\n",
       "      <th>233157</th>\n",
       "      <td>per_si_allsi.cov_pop_tot</td>\n",
       "      <td>MNG</td>\n",
       "      <td>1</td>\n",
       "    </tr>\n",
       "    <tr>\n",
       "      <th>233158</th>\n",
       "      <td>per_si_allsi.cov_pop_tot</td>\n",
       "      <td>MOZ</td>\n",
       "      <td>1</td>\n",
       "    </tr>\n",
       "    <tr>\n",
       "      <th>233159</th>\n",
       "      <td>per_si_allsi.cov_pop_tot</td>\n",
       "      <td>MRT</td>\n",
       "      <td>1</td>\n",
       "    </tr>\n",
       "    <tr>\n",
       "      <th>233162</th>\n",
       "      <td>per_si_allsi.cov_pop_tot</td>\n",
       "      <td>MYS</td>\n",
       "      <td>1</td>\n",
       "    </tr>\n",
       "    <tr>\n",
       "      <th>233163</th>\n",
       "      <td>per_si_allsi.cov_pop_tot</td>\n",
       "      <td>NAM</td>\n",
       "      <td>1</td>\n",
       "    </tr>\n",
       "    <tr>\n",
       "      <th>233164</th>\n",
       "      <td>per_si_allsi.cov_pop_tot</td>\n",
       "      <td>NER</td>\n",
       "      <td>1</td>\n",
       "    </tr>\n",
       "    <tr>\n",
       "      <th>233167</th>\n",
       "      <td>per_si_allsi.cov_pop_tot</td>\n",
       "      <td>NPL</td>\n",
       "      <td>1</td>\n",
       "    </tr>\n",
       "    <tr>\n",
       "      <th>233172</th>\n",
       "      <td>per_si_allsi.cov_pop_tot</td>\n",
       "      <td>PLW</td>\n",
       "      <td>1</td>\n",
       "    </tr>\n",
       "    <tr>\n",
       "      <th>233173</th>\n",
       "      <td>per_si_allsi.cov_pop_tot</td>\n",
       "      <td>PNG</td>\n",
       "      <td>1</td>\n",
       "    </tr>\n",
       "    <tr>\n",
       "      <th>233177</th>\n",
       "      <td>per_si_allsi.cov_pop_tot</td>\n",
       "      <td>RUS</td>\n",
       "      <td>1</td>\n",
       "    </tr>\n",
       "    <tr>\n",
       "      <th>233178</th>\n",
       "      <td>per_si_allsi.cov_pop_tot</td>\n",
       "      <td>RWA</td>\n",
       "      <td>1</td>\n",
       "    </tr>\n",
       "    <tr>\n",
       "      <th>233179</th>\n",
       "      <td>per_si_allsi.cov_pop_tot</td>\n",
       "      <td>SEN</td>\n",
       "      <td>1</td>\n",
       "    </tr>\n",
       "    <tr>\n",
       "      <th>233180</th>\n",
       "      <td>per_si_allsi.cov_pop_tot</td>\n",
       "      <td>SLB</td>\n",
       "      <td>1</td>\n",
       "    </tr>\n",
       "    <tr>\n",
       "      <th>233181</th>\n",
       "      <td>per_si_allsi.cov_pop_tot</td>\n",
       "      <td>SLE</td>\n",
       "      <td>1</td>\n",
       "    </tr>\n",
       "  </tbody>\n",
       "</table>\n",
       "<p>233190 rows × 3 columns</p>\n",
       "</div>"
      ],
      "text/plain": [
       "                   IndicatorCode CountryCode  Years\n",
       "166174               SH.DTH.IMRT         ARE     56\n",
       "166178               SH.DTH.IMRT         AUS     56\n",
       "166179               SH.DTH.IMRT         AUT     56\n",
       "166182               SH.DTH.IMRT         BEL     56\n",
       "166183               SH.DTH.IMRT         BEN     56\n",
       "166184               SH.DTH.IMRT         BFA     56\n",
       "166185               SH.DTH.IMRT         BGD     56\n",
       "166187               SH.DTH.IMRT         BHR     56\n",
       "166192               SH.DTH.IMRT         BOL     56\n",
       "166193               SH.DTH.IMRT         BRA     56\n",
       "166194               SH.DTH.IMRT         BRB     56\n",
       "166197               SH.DTH.IMRT         BWA     56\n",
       "166198               SH.DTH.IMRT         CAF     56\n",
       "166199               SH.DTH.IMRT         CAN     56\n",
       "166200               SH.DTH.IMRT         CHE     56\n",
       "166201               SH.DTH.IMRT         CHL     56\n",
       "166203               SH.DTH.IMRT         CIV     56\n",
       "166204               SH.DTH.IMRT         CMR     56\n",
       "166205               SH.DTH.IMRT         COG     56\n",
       "166206               SH.DTH.IMRT         COL     56\n",
       "166215               SH.DTH.IMRT         DMA     56\n",
       "166216               SH.DTH.IMRT         DNK     56\n",
       "166217               SH.DTH.IMRT         DOM     56\n",
       "166218               SH.DTH.IMRT         DZA     56\n",
       "166221               SH.DTH.IMRT         ECU     56\n",
       "166222               SH.DTH.IMRT         EGY     56\n",
       "166224               SH.DTH.IMRT         ESP     56\n",
       "166227               SH.DTH.IMRT         FIN     56\n",
       "166228               SH.DTH.IMRT         FJI     56\n",
       "166229               SH.DTH.IMRT         FRA     56\n",
       "...                          ...         ...    ...\n",
       "233130  per_si_allsi.cov_pop_tot         GEO      1\n",
       "233134  per_si_allsi.cov_pop_tot         HRV      1\n",
       "233135  per_si_allsi.cov_pop_tot         HUN      1\n",
       "233137  per_si_allsi.cov_pop_tot         JAM      1\n",
       "233140  per_si_allsi.cov_pop_tot         KEN      1\n",
       "233142  per_si_allsi.cov_pop_tot         KHM      1\n",
       "233143  per_si_allsi.cov_pop_tot         KIR      1\n",
       "233145  per_si_allsi.cov_pop_tot         LAO      1\n",
       "233146  per_si_allsi.cov_pop_tot         LBN      1\n",
       "233147  per_si_allsi.cov_pop_tot         LBR      1\n",
       "233148  per_si_allsi.cov_pop_tot         LKA      1\n",
       "233149  per_si_allsi.cov_pop_tot         LSO      1\n",
       "233150  per_si_allsi.cov_pop_tot         LTU      1\n",
       "233153  per_si_allsi.cov_pop_tot         MDV      1\n",
       "233155  per_si_allsi.cov_pop_tot         MLI      1\n",
       "233156  per_si_allsi.cov_pop_tot         MNE      1\n",
       "233157  per_si_allsi.cov_pop_tot         MNG      1\n",
       "233158  per_si_allsi.cov_pop_tot         MOZ      1\n",
       "233159  per_si_allsi.cov_pop_tot         MRT      1\n",
       "233162  per_si_allsi.cov_pop_tot         MYS      1\n",
       "233163  per_si_allsi.cov_pop_tot         NAM      1\n",
       "233164  per_si_allsi.cov_pop_tot         NER      1\n",
       "233167  per_si_allsi.cov_pop_tot         NPL      1\n",
       "233172  per_si_allsi.cov_pop_tot         PLW      1\n",
       "233173  per_si_allsi.cov_pop_tot         PNG      1\n",
       "233177  per_si_allsi.cov_pop_tot         RUS      1\n",
       "233178  per_si_allsi.cov_pop_tot         RWA      1\n",
       "233179  per_si_allsi.cov_pop_tot         SEN      1\n",
       "233180  per_si_allsi.cov_pop_tot         SLB      1\n",
       "233181  per_si_allsi.cov_pop_tot         SLE      1\n",
       "\n",
       "[233190 rows x 3 columns]"
      ]
     },
     "execution_count": 34,
     "metadata": {},
     "output_type": "execute_result"
    }
   ],
   "source": [
    "#print(len(years_of_entries_for_cc_and_ic))\n",
    "years_of_entries_for_cc_and_ic.head(-10)"
   ]
  },
  {
   "cell_type": "markdown",
   "metadata": {},
   "source": [
    "## Now let's count and show which indicators have the full 56 years of data for USA and ARE"
   ]
  },
  {
   "cell_type": "raw",
   "metadata": {},
   "source": [
    "SELECT IndicatorCode\n",
    "    , CountryCode\n",
    "    , COUNT(Year) Years\n",
    "FROM Indicators\n",
    "WHERE CountryCode = 'USA' \n",
    "    OR CountryCode = 'ARE'\n",
    "GROUP BY IndicatorCode, CountryCode\n",
    "HAVING Years = 56\n",
    "ORDER by Years DESC\n",
    "    , IndicatorCode\n",
    "    , CountryCode"
   ]
  },
  {
   "cell_type": "code",
   "execution_count": 41,
   "metadata": {},
   "outputs": [],
   "source": [
    "full_span_USA_and_ARE =\\\n",
    "\\\n",
    "Indicators[(Indicators.CountryCode == 'USA') | (Indicators.CountryCode == 'ARE')].\\\n",
    "groupby(['CountryCode','IndicatorCode']).filter(lambda g: len(g) == 56).\\\n",
    "groupby(['CountryCode','IndicatorCode']).size().\\\n",
    "to_frame('Years').reset_index().\\\n",
    "sort_values(['Years', 'IndicatorCode', 'CountryCode'], ascending = [False, True, True])"
   ]
  },
  {
   "cell_type": "code",
   "execution_count": 11,
   "metadata": {},
   "outputs": [
    {
     "data": {
      "text/plain": [
       "8"
      ]
     },
     "execution_count": 11,
     "metadata": {},
     "output_type": "execute_result"
    }
   ],
   "source": [
    "len(full_span_USA_and_ARE)"
   ]
  },
  {
   "cell_type": "code",
   "execution_count": 40,
   "metadata": {},
   "outputs": [
    {
     "data": {
      "text/html": [
       "<div>\n",
       "<style scoped>\n",
       "    .dataframe tbody tr th:only-of-type {\n",
       "        vertical-align: middle;\n",
       "    }\n",
       "\n",
       "    .dataframe tbody tr th {\n",
       "        vertical-align: top;\n",
       "    }\n",
       "\n",
       "    .dataframe thead th {\n",
       "        text-align: right;\n",
       "    }\n",
       "</style>\n",
       "<table border=\"1\" class=\"dataframe\">\n",
       "  <thead>\n",
       "    <tr style=\"text-align: right;\">\n",
       "      <th></th>\n",
       "      <th>CountryCode</th>\n",
       "      <th>IndicatorCode</th>\n",
       "      <th>Years</th>\n",
       "    </tr>\n",
       "  </thead>\n",
       "  <tbody>\n",
       "    <tr>\n",
       "      <th>0</th>\n",
       "      <td>ARE</td>\n",
       "      <td>SH.DTH.IMRT</td>\n",
       "      <td>56</td>\n",
       "    </tr>\n",
       "    <tr>\n",
       "      <th>4</th>\n",
       "      <td>USA</td>\n",
       "      <td>SH.DTH.IMRT</td>\n",
       "      <td>56</td>\n",
       "    </tr>\n",
       "    <tr>\n",
       "      <th>1</th>\n",
       "      <td>ARE</td>\n",
       "      <td>SH.DTH.MORT</td>\n",
       "      <td>56</td>\n",
       "    </tr>\n",
       "    <tr>\n",
       "      <th>5</th>\n",
       "      <td>USA</td>\n",
       "      <td>SH.DTH.MORT</td>\n",
       "      <td>56</td>\n",
       "    </tr>\n",
       "    <tr>\n",
       "      <th>2</th>\n",
       "      <td>ARE</td>\n",
       "      <td>SH.DYN.MORT</td>\n",
       "      <td>56</td>\n",
       "    </tr>\n",
       "    <tr>\n",
       "      <th>6</th>\n",
       "      <td>USA</td>\n",
       "      <td>SH.DYN.MORT</td>\n",
       "      <td>56</td>\n",
       "    </tr>\n",
       "    <tr>\n",
       "      <th>3</th>\n",
       "      <td>ARE</td>\n",
       "      <td>SP.DYN.IMRT.IN</td>\n",
       "      <td>56</td>\n",
       "    </tr>\n",
       "    <tr>\n",
       "      <th>7</th>\n",
       "      <td>USA</td>\n",
       "      <td>SP.DYN.IMRT.IN</td>\n",
       "      <td>56</td>\n",
       "    </tr>\n",
       "  </tbody>\n",
       "</table>\n",
       "</div>"
      ],
      "text/plain": [
       "  CountryCode   IndicatorCode  Years\n",
       "0         ARE     SH.DTH.IMRT     56\n",
       "4         USA     SH.DTH.IMRT     56\n",
       "1         ARE     SH.DTH.MORT     56\n",
       "5         USA     SH.DTH.MORT     56\n",
       "2         ARE     SH.DYN.MORT     56\n",
       "6         USA     SH.DYN.MORT     56\n",
       "3         ARE  SP.DYN.IMRT.IN     56\n",
       "7         USA  SP.DYN.IMRT.IN     56"
      ]
     },
     "execution_count": 40,
     "metadata": {},
     "output_type": "execute_result"
    }
   ],
   "source": [
    "full_span_USA_and_ARE"
   ]
  },
  {
   "cell_type": "markdown",
   "metadata": {},
   "source": [
    "## Now let's count and show all indicators that have the full 56 years of data for all countries"
   ]
  },
  {
   "cell_type": "raw",
   "metadata": {},
   "source": [
    "SELECT IndicatorCode\n",
    "    , CountryCode\n",
    "    , COUNT(Year) Years\n",
    "FROM Indicators\n",
    "GROUP BY IndicatorCode, CountryCode\n",
    "HAVING Years = 56\n",
    "ORDER by Years DESC\n",
    "    , IndicatorCode\n",
    "    , CountryCode"
   ]
  },
  {
   "cell_type": "code",
   "execution_count": 42,
   "metadata": {},
   "outputs": [],
   "source": [
    "#BE PATIENT\n",
    "\n",
    "#more usefully\n",
    "#countries_with_56_years_of_data_by_indicator \n",
    "full_span=\\\n",
    "\\\n",
    "Indicators.\\\n",
    "groupby(['IndicatorCode','CountryCode']).filter(lambda g: len(g) == 56).\\\n",
    "groupby(['IndicatorCode','CountryCode']).size().\\\n",
    "to_frame('Years').reset_index().\\\n",
    "sort_values(['Years', 'IndicatorCode', 'CountryCode'], ascending = [False, True, True])"
   ]
  },
  {
   "cell_type": "code",
   "execution_count": 13,
   "metadata": {},
   "outputs": [
    {
     "data": {
      "text/plain": [
       "442"
      ]
     },
     "execution_count": 13,
     "metadata": {},
     "output_type": "execute_result"
    }
   ],
   "source": [
    "len(full_span)"
   ]
  },
  {
   "cell_type": "code",
   "execution_count": 38,
   "metadata": {},
   "outputs": [
    {
     "data": {
      "text/html": [
       "<div>\n",
       "<style scoped>\n",
       "    .dataframe tbody tr th:only-of-type {\n",
       "        vertical-align: middle;\n",
       "    }\n",
       "\n",
       "    .dataframe tbody tr th {\n",
       "        vertical-align: top;\n",
       "    }\n",
       "\n",
       "    .dataframe thead th {\n",
       "        text-align: right;\n",
       "    }\n",
       "</style>\n",
       "<table border=\"1\" class=\"dataframe\">\n",
       "  <thead>\n",
       "    <tr style=\"text-align: right;\">\n",
       "      <th></th>\n",
       "      <th>IndicatorCode</th>\n",
       "      <th>CountryCode</th>\n",
       "      <th>Years</th>\n",
       "    </tr>\n",
       "  </thead>\n",
       "  <tbody>\n",
       "    <tr>\n",
       "      <th>0</th>\n",
       "      <td>SH.DTH.IMRT</td>\n",
       "      <td>ARE</td>\n",
       "      <td>56</td>\n",
       "    </tr>\n",
       "    <tr>\n",
       "      <th>1</th>\n",
       "      <td>SH.DTH.IMRT</td>\n",
       "      <td>AUS</td>\n",
       "      <td>56</td>\n",
       "    </tr>\n",
       "    <tr>\n",
       "      <th>2</th>\n",
       "      <td>SH.DTH.IMRT</td>\n",
       "      <td>AUT</td>\n",
       "      <td>56</td>\n",
       "    </tr>\n",
       "    <tr>\n",
       "      <th>3</th>\n",
       "      <td>SH.DTH.IMRT</td>\n",
       "      <td>BEL</td>\n",
       "      <td>56</td>\n",
       "    </tr>\n",
       "    <tr>\n",
       "      <th>4</th>\n",
       "      <td>SH.DTH.IMRT</td>\n",
       "      <td>BEN</td>\n",
       "      <td>56</td>\n",
       "    </tr>\n",
       "  </tbody>\n",
       "</table>\n",
       "</div>"
      ],
      "text/plain": [
       "  IndicatorCode CountryCode  Years\n",
       "0   SH.DTH.IMRT         ARE     56\n",
       "1   SH.DTH.IMRT         AUS     56\n",
       "2   SH.DTH.IMRT         AUT     56\n",
       "3   SH.DTH.IMRT         BEL     56\n",
       "4   SH.DTH.IMRT         BEN     56"
      ]
     },
     "execution_count": 38,
     "metadata": {},
     "output_type": "execute_result"
    }
   ],
   "source": [
    "full_span.head()"
   ]
  },
  {
   "cell_type": "code",
   "execution_count": 15,
   "metadata": {},
   "outputs": [
    {
     "data": {
      "text/plain": [
       "4"
      ]
     },
     "execution_count": 15,
     "metadata": {},
     "output_type": "execute_result"
    }
   ],
   "source": [
    "indicator_code = full_span['IndicatorCode'].unique().tolist()\n",
    "len(indicator_code)"
   ]
  },
  {
   "cell_type": "code",
   "execution_count": 16,
   "metadata": {},
   "outputs": [
    {
     "data": {
      "text/plain": [
       "115"
      ]
     },
     "execution_count": 16,
     "metadata": {},
     "output_type": "execute_result"
    }
   ],
   "source": [
    "country_code = full_span['CountryCode'].unique().tolist()\n",
    "len(country_code)"
   ]
  },
  {
   "cell_type": "code",
   "execution_count": 17,
   "metadata": {},
   "outputs": [],
   "source": [
    "full_span_key = pd.DataFrame(full_span[['IndicatorCode','CountryCode']]) # Here it is meant as the key to the 56 years"
   ]
  },
  {
   "cell_type": "code",
   "execution_count": 18,
   "metadata": {},
   "outputs": [],
   "source": [
    "#type(full_span_key)\n",
    "full_span_key.to_csv('IndicatorCode_CountryCode_Key.csv', encoding='utf-8', index=False)"
   ]
  },
  {
   "cell_type": "code",
   "execution_count": 19,
   "metadata": {},
   "outputs": [
    {
     "data": {
      "text/html": [
       "<div>\n",
       "<style scoped>\n",
       "    .dataframe tbody tr th:only-of-type {\n",
       "        vertical-align: middle;\n",
       "    }\n",
       "\n",
       "    .dataframe tbody tr th {\n",
       "        vertical-align: top;\n",
       "    }\n",
       "\n",
       "    .dataframe thead th {\n",
       "        text-align: right;\n",
       "    }\n",
       "</style>\n",
       "<table border=\"1\" class=\"dataframe\">\n",
       "  <thead>\n",
       "    <tr style=\"text-align: right;\">\n",
       "      <th></th>\n",
       "      <th>IndicatorCode</th>\n",
       "      <th>CountryCode</th>\n",
       "    </tr>\n",
       "  </thead>\n",
       "  <tbody>\n",
       "    <tr>\n",
       "      <th>0</th>\n",
       "      <td>SH.DTH.IMRT</td>\n",
       "      <td>ARE</td>\n",
       "    </tr>\n",
       "    <tr>\n",
       "      <th>1</th>\n",
       "      <td>SH.DTH.IMRT</td>\n",
       "      <td>AUS</td>\n",
       "    </tr>\n",
       "    <tr>\n",
       "      <th>2</th>\n",
       "      <td>SH.DTH.IMRT</td>\n",
       "      <td>AUT</td>\n",
       "    </tr>\n",
       "    <tr>\n",
       "      <th>3</th>\n",
       "      <td>SH.DTH.IMRT</td>\n",
       "      <td>BEL</td>\n",
       "    </tr>\n",
       "    <tr>\n",
       "      <th>4</th>\n",
       "      <td>SH.DTH.IMRT</td>\n",
       "      <td>BEN</td>\n",
       "    </tr>\n",
       "  </tbody>\n",
       "</table>\n",
       "</div>"
      ],
      "text/plain": [
       "  IndicatorCode CountryCode\n",
       "0   SH.DTH.IMRT         ARE\n",
       "1   SH.DTH.IMRT         AUS\n",
       "2   SH.DTH.IMRT         AUT\n",
       "3   SH.DTH.IMRT         BEL\n",
       "4   SH.DTH.IMRT         BEN"
      ]
     },
     "execution_count": 19,
     "metadata": {},
     "output_type": "execute_result"
    }
   ],
   "source": [
    "full_span_key.head()"
   ]
  },
  {
   "cell_type": "markdown",
   "metadata": {},
   "source": [
    "# Now let's show the line item values of [country, indicator] which have 56 years of data"
   ]
  },
  {
   "cell_type": "raw",
   "metadata": {},
   "source": [
    "SELECT Indicators.*\n",
    "FROM Indicators\n",
    "JOIN full_span_key\n",
    "    ON (full_span_key.IndicatorCode = Indicators.IndicatorCode)\n",
    "    AND (full_span_key.CountryCode = Indicators.CountryCode) "
   ]
  },
  {
   "cell_type": "code",
   "execution_count": 20,
   "metadata": {},
   "outputs": [
    {
     "data": {
      "text/plain": [
       "24752"
      ]
     },
     "execution_count": 20,
     "metadata": {},
     "output_type": "execute_result"
    }
   ],
   "source": [
    "working_recordset = pd.merge(Indicators,full_span_key, on=['IndicatorCode','CountryCode'])\n",
    "len(working_recordset)"
   ]
  },
  {
   "cell_type": "code",
   "execution_count": 21,
   "metadata": {},
   "outputs": [
    {
     "data": {
      "text/html": [
       "<div>\n",
       "<style scoped>\n",
       "    .dataframe tbody tr th:only-of-type {\n",
       "        vertical-align: middle;\n",
       "    }\n",
       "\n",
       "    .dataframe tbody tr th {\n",
       "        vertical-align: top;\n",
       "    }\n",
       "\n",
       "    .dataframe thead th {\n",
       "        text-align: right;\n",
       "    }\n",
       "</style>\n",
       "<table border=\"1\" class=\"dataframe\">\n",
       "  <thead>\n",
       "    <tr style=\"text-align: right;\">\n",
       "      <th></th>\n",
       "      <th>CountryName</th>\n",
       "      <th>CountryCode</th>\n",
       "      <th>IndicatorName</th>\n",
       "      <th>IndicatorCode</th>\n",
       "      <th>Year</th>\n",
       "      <th>Value</th>\n",
       "    </tr>\n",
       "  </thead>\n",
       "  <tbody>\n",
       "    <tr>\n",
       "      <th>0</th>\n",
       "      <td>Arab World</td>\n",
       "      <td>ARB</td>\n",
       "      <td>Mortality rate, infant (per 1,000 live births)</td>\n",
       "      <td>SP.DYN.IMRT.IN</td>\n",
       "      <td>1960</td>\n",
       "      <td>159.950234</td>\n",
       "    </tr>\n",
       "    <tr>\n",
       "      <th>1</th>\n",
       "      <td>Arab World</td>\n",
       "      <td>ARB</td>\n",
       "      <td>Mortality rate, infant (per 1,000 live births)</td>\n",
       "      <td>SP.DYN.IMRT.IN</td>\n",
       "      <td>1961</td>\n",
       "      <td>155.313614</td>\n",
       "    </tr>\n",
       "    <tr>\n",
       "      <th>2</th>\n",
       "      <td>Arab World</td>\n",
       "      <td>ARB</td>\n",
       "      <td>Mortality rate, infant (per 1,000 live births)</td>\n",
       "      <td>SP.DYN.IMRT.IN</td>\n",
       "      <td>1962</td>\n",
       "      <td>152.233048</td>\n",
       "    </tr>\n",
       "    <tr>\n",
       "      <th>3</th>\n",
       "      <td>Arab World</td>\n",
       "      <td>ARB</td>\n",
       "      <td>Mortality rate, infant (per 1,000 live births)</td>\n",
       "      <td>SP.DYN.IMRT.IN</td>\n",
       "      <td>1963</td>\n",
       "      <td>156.521984</td>\n",
       "    </tr>\n",
       "    <tr>\n",
       "      <th>4</th>\n",
       "      <td>Arab World</td>\n",
       "      <td>ARB</td>\n",
       "      <td>Mortality rate, infant (per 1,000 live births)</td>\n",
       "      <td>SP.DYN.IMRT.IN</td>\n",
       "      <td>1964</td>\n",
       "      <td>152.166551</td>\n",
       "    </tr>\n",
       "  </tbody>\n",
       "</table>\n",
       "</div>"
      ],
      "text/plain": [
       "  CountryName CountryCode                                   IndicatorName  \\\n",
       "0  Arab World         ARB  Mortality rate, infant (per 1,000 live births)   \n",
       "1  Arab World         ARB  Mortality rate, infant (per 1,000 live births)   \n",
       "2  Arab World         ARB  Mortality rate, infant (per 1,000 live births)   \n",
       "3  Arab World         ARB  Mortality rate, infant (per 1,000 live births)   \n",
       "4  Arab World         ARB  Mortality rate, infant (per 1,000 live births)   \n",
       "\n",
       "    IndicatorCode  Year       Value  \n",
       "0  SP.DYN.IMRT.IN  1960  159.950234  \n",
       "1  SP.DYN.IMRT.IN  1961  155.313614  \n",
       "2  SP.DYN.IMRT.IN  1962  152.233048  \n",
       "3  SP.DYN.IMRT.IN  1963  156.521984  \n",
       "4  SP.DYN.IMRT.IN  1964  152.166551  "
      ]
     },
     "execution_count": 21,
     "metadata": {},
     "output_type": "execute_result"
    }
   ],
   "source": [
    "working_recordset.head()"
   ]
  },
  {
   "cell_type": "markdown",
   "metadata": {},
   "source": [
    "# Now lets save this new recordset to CSV file"
   ]
  },
  {
   "cell_type": "code",
   "execution_count": 49,
   "metadata": {},
   "outputs": [],
   "source": [
    "working_recordset.to_csv('Indicators_56_full_years.csv', sep='\\t', encoding='utf-8')"
   ]
  },
  {
   "cell_type": "code",
   "execution_count": 44,
   "metadata": {},
   "outputs": [
    {
     "name": "stdout",
     "output_type": "stream",
     "text": [
      "Our initial dataset had  5656458 and our relevant dataset has  24752  records\n"
     ]
    }
   ],
   "source": [
    "print('Our initial dataset had ', len(Indicators), 'and our relevant dataset has ', len(working_recordset), ' records')"
   ]
  },
  {
   "cell_type": "code",
   "execution_count": null,
   "metadata": {},
   "outputs": [],
   "source": []
  }
 ],
 "metadata": {
  "kernelspec": {
   "display_name": "Python 3",
   "language": "python",
   "name": "python3"
  },
  "language_info": {
   "codemirror_mode": {
    "name": "ipython",
    "version": 3
   },
   "file_extension": ".py",
   "mimetype": "text/x-python",
   "name": "python",
   "nbconvert_exporter": "python",
   "pygments_lexer": "ipython3",
   "version": "3.7.1"
  }
 },
 "nbformat": 4,
 "nbformat_minor": 2
}
